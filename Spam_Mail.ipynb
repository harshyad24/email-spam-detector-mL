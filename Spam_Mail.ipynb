{
  "nbformat": 4,
  "nbformat_minor": 0,
  "metadata": {
    "colab": {
      "provenance": []
    },
    "kernelspec": {
      "name": "python3",
      "display_name": "Python 3"
    },
    "language_info": {
      "name": "python"
    }
  },
  "cells": [
    {
      "cell_type": "code",
      "source": [
        "import pandas as pd\n",
        "\n",
        "# Load dataset\n",
        "df = pd.read_csv('/content/email_classification_dataset.csv')\n",
        "\n",
        "# Convert label to numeric\n",
        "df['label_num'] = df['label'].map({'ham': 0, 'spam': 1})\n",
        "\n",
        "# Clean the email content\n",
        "import re\n",
        "\n",
        "def clean_email(text):\n",
        "    text = re.sub(r'\\n', ' ', text)  # Remove newline characters\n",
        "    text = re.sub(r'[^a-zA-Z\\s]', '', text)  # Remove punctuation/numbers\n",
        "    text = text.lower()  # Convert to lowercase\n",
        "    return text\n",
        "\n",
        "df['clean_email'] = df['email'].apply(clean_email)\n"
      ],
      "metadata": {
        "id": "Cdkxpd6bvY0e"
      },
      "execution_count": 2,
      "outputs": []
    },
    {
      "cell_type": "code",
      "source": [
        "import re\n",
        "from sklearn.model_selection import train_test_split\n",
        "\n",
        "# Convert label to binary: spam = 1, ham = 0\n",
        "df['label_num'] = df['label'].map({'ham': 0, 'spam': 1})\n",
        "\n",
        "# Clean email text: remove HTML tags, punctuation, and lowercase\n",
        "def clean_email(text):\n",
        "    text = re.sub(r'\\n', ' ', text)  # Remove newlines\n",
        "    text = re.sub(r'[^a-zA-Z\\s]', '', text)  # Remove punctuation/numbers\n",
        "    text = text.lower()  # Convert to lowercase\n",
        "    return text\n",
        "\n",
        "df['clean_email'] = df['email'].apply(clean_email)\n",
        "\n",
        "# Split into training and test sets\n",
        "X_train, X_test, y_train, y_test = train_test_split(df['clean_email'], df['label_num'], test_size=0.2, random_state=42)\n"
      ],
      "metadata": {
        "id": "vo2jyRQVvH32"
      },
      "execution_count": 3,
      "outputs": []
    },
    {
      "cell_type": "code",
      "source": [
        "from sklearn.feature_extraction.text import TfidfVectorizer\n",
        "\n",
        "vectorizer = TfidfVectorizer(stop_words='english', max_features=3000)\n",
        "X_train_tfidf = vectorizer.fit_transform(X_train)\n",
        "X_test_tfidf = vectorizer.transform(X_test)\n"
      ],
      "metadata": {
        "id": "gUA3UDiCveu2"
      },
      "execution_count": 4,
      "outputs": []
    },
    {
      "cell_type": "code",
      "source": [
        "from sklearn.linear_model import LogisticRegression\n",
        "from sklearn.metrics import classification_report, confusion_matrix\n",
        "\n",
        "# Train the model\n",
        "model = LogisticRegression()\n",
        "model.fit(X_train_tfidf, y_train)\n",
        "\n",
        "# Predict\n",
        "y_pred = model.predict(X_test_tfidf)\n",
        "\n",
        "# Evaluate\n",
        "print(classification_report(y_test, y_pred))\n",
        "print(confusion_matrix(y_test, y_pred))\n"
      ],
      "metadata": {
        "colab": {
          "base_uri": "https://localhost:8080/"
        },
        "id": "Ij6F-9RSvhr7",
        "outputId": "b438860d-28b8-45a4-f528-2b00a5b5b3fa"
      },
      "execution_count": 5,
      "outputs": [
        {
          "output_type": "stream",
          "name": "stdout",
          "text": [
            "              precision    recall  f1-score   support\n",
            "\n",
            "           0       1.00      1.00      1.00      1682\n",
            "           1       1.00      1.00      1.00       318\n",
            "\n",
            "    accuracy                           1.00      2000\n",
            "   macro avg       1.00      1.00      1.00      2000\n",
            "weighted avg       1.00      1.00      1.00      2000\n",
            "\n",
            "[[1682    0]\n",
            " [   0  318]]\n"
          ]
        }
      ]
    },
    {
      "cell_type": "code",
      "source": [
        "from sklearn.linear_model import LogisticRegression\n",
        "from sklearn.metrics import classification_report, confusion_matrix\n",
        "\n",
        "# Train the model\n",
        "model = LogisticRegression()\n",
        "model.fit(X_train_tfidf, y_train)\n",
        "\n",
        "# Predict\n",
        "y_pred = model.predict(X_test_tfidf)\n",
        "\n",
        "# Evaluate\n",
        "print(classification_report(y_test, y_pred))\n",
        "print(confusion_matrix(y_test, y_pred))\n"
      ],
      "metadata": {
        "colab": {
          "base_uri": "https://localhost:8080/"
        },
        "id": "EwNKbaAnvqj3",
        "outputId": "381a095a-58db-4923-eda6-0568d1bf7715"
      },
      "execution_count": 6,
      "outputs": [
        {
          "output_type": "stream",
          "name": "stdout",
          "text": [
            "              precision    recall  f1-score   support\n",
            "\n",
            "           0       1.00      1.00      1.00      1682\n",
            "           1       1.00      1.00      1.00       318\n",
            "\n",
            "    accuracy                           1.00      2000\n",
            "   macro avg       1.00      1.00      1.00      2000\n",
            "weighted avg       1.00      1.00      1.00      2000\n",
            "\n",
            "[[1682    0]\n",
            " [   0  318]]\n"
          ]
        }
      ]
    },
    {
      "cell_type": "code",
      "source": [
        "import numpy as np\n",
        "feature_names = vectorizer.get_feature_names_out()\n",
        "coefs = model.coef_[0]\n",
        "top_positive = np.argsort(coefs)[-10:]\n",
        "top_negative = np.argsort(coefs)[:10]\n",
        "\n",
        "print(\"Top spam words:\", feature_names[top_positive])\n",
        "print(\"Top ham words:\", feature_names[top_negative])\n"
      ],
      "metadata": {
        "colab": {
          "base_uri": "https://localhost:8080/"
        },
        "id": "od6tAeuxv1SW",
        "outputId": "86bc0fd4-8ad9-44b1-b148-42822db1ba80"
      },
      "execution_count": 7,
      "outputs": [
        {
          "output_type": "stream",
          "name": "stdout",
          "text": [
            "Top spam words: ['urgent' 'experience' 'claim' 'offer' 'products' 'click' 'delayed'\n",
            " 'login' 'account' 'new']\n",
            "Top ham words: ['software' 'team' 'survey' 'thank' 'feedback' 'regarding' 'best'\n",
            " 'meeting' 'reminder' 'project']\n"
          ]
        }
      ]
    },
    {
      "cell_type": "code",
      "source": [
        "import joblib\n",
        "joblib.dump(model, 'spam_classifier_model.pkl')\n",
        "joblib.dump(vectorizer, 'tfidf_vectorizer.pkl')\n"
      ],
      "metadata": {
        "colab": {
          "base_uri": "https://localhost:8080/"
        },
        "id": "pSPuqU5Sv7Eo",
        "outputId": "8b315a33-67c0-4d73-aabb-4f999c919c5a"
      },
      "execution_count": 8,
      "outputs": [
        {
          "output_type": "execute_result",
          "data": {
            "text/plain": [
              "['tfidf_vectorizer.pkl']"
            ]
          },
          "metadata": {},
          "execution_count": 8
        }
      ]
    },
    {
      "cell_type": "code",
      "source": [
        "import numpy as np\n",
        "\n",
        "feature_names = vectorizer.get_feature_names_out()\n",
        "coefs = model.coef_[0]\n",
        "\n",
        "# Top 10 words most indicative of spam\n",
        "top_positive = np.argsort(coefs)[-10:]\n",
        "# Top 10 words most indicative of ham\n",
        "top_negative = np.argsort(coefs)[:10]\n",
        "\n",
        "print(\"🔴 Top spam words:\")\n",
        "for idx in reversed(top_positive):\n",
        "    print(f\"{feature_names[idx]} (weight: {coefs[idx]:.4f})\")\n",
        "\n",
        "print(\"\\n🟢 Top ham words:\")\n",
        "for idx in top_negative:\n",
        "    print(f\"{feature_names[idx]} (weight: {coefs[idx]:.4f})\")\n"
      ],
      "metadata": {
        "colab": {
          "base_uri": "https://localhost:8080/"
        },
        "id": "aaLfZyo-v-4K",
        "outputId": "15da4442-0148-492a-e745-475aeeffe94f"
      },
      "execution_count": 9,
      "outputs": [
        {
          "output_type": "stream",
          "name": "stdout",
          "text": [
            "🔴 Top spam words:\n",
            "new (weight: 2.5360)\n",
            "account (weight: 2.2939)\n",
            "login (weight: 2.0913)\n",
            "delayed (weight: 1.9987)\n",
            "click (weight: 1.9115)\n",
            "products (weight: 1.8566)\n",
            "offer (weight: 1.8566)\n",
            "claim (weight: 1.7942)\n",
            "experience (weight: 1.7602)\n",
            "urgent (weight: 1.7387)\n",
            "\n",
            "🟢 Top ham words:\n",
            "software (weight: -2.3879)\n",
            "team (weight: -2.2077)\n",
            "survey (weight: -2.0496)\n",
            "thank (weight: -2.0339)\n",
            "feedback (weight: -1.7304)\n",
            "regarding (weight: -1.7220)\n",
            "best (weight: -1.6910)\n",
            "meeting (weight: -1.6110)\n",
            "reminder (weight: -1.6110)\n",
            "project (weight: -1.6110)\n"
          ]
        }
      ]
    },
    {
      "cell_type": "code",
      "source": [
        "import matplotlib.pyplot as plt\n",
        "\n",
        "# Get top feature names and weights\n",
        "top_spam = [(feature_names[i], coefs[i]) for i in top_positive]\n",
        "top_ham = [(feature_names[i], coefs[i]) for i in top_negative]\n",
        "\n",
        "# Create bar plots\n",
        "plt.figure(figsize=(14, 6))\n",
        "\n",
        "# Spam Words\n",
        "plt.subplot(1, 2, 1)\n",
        "plt.barh([x[0] for x in top_spam], [x[1] for x in top_spam], color='red')\n",
        "plt.title('Top 10 Spam Words')\n",
        "plt.xlabel('Model Weight')\n",
        "\n",
        "# Ham Words\n",
        "plt.subplot(1, 2, 2)\n",
        "plt.barh([x[0] for x in reversed(top_ham)], [x[1] for x in reversed(top_ham)], color='green')\n",
        "plt.title('Top 10 Ham Words')\n",
        "plt.xlabel('Model Weight')\n",
        "\n",
        "plt.tight_layout()\n",
        "plt.show()\n"
      ],
      "metadata": {
        "colab": {
          "base_uri": "https://localhost:8080/",
          "height": 627
        },
        "id": "drZPTVWQwP3G",
        "outputId": "dd661e9a-9ad4-4e92-9737-0e6ce9223ab6"
      },
      "execution_count": 10,
      "outputs": [
        {
          "output_type": "display_data",
          "data": {
            "text/plain": [
              "<Figure size 1400x600 with 2 Axes>"
            ],
            "image/png": "[encoded data removed]"
          },
          "metadata": {}
        }
      ]
    },
    {
      "cell_type": "code",
      "source": [
        "from sklearn.naive_bayes import MultinomialNB\n",
        "from sklearn.metrics import classification_report, confusion_matrix\n",
        "\n",
        "# Train Naive Bayes\n",
        "nb_model = MultinomialNB()\n",
        "nb_model.fit(X_train_tfidf, y_train)\n",
        "\n",
        "# Predict\n",
        "y_pred_nb = nb_model.predict(X_test_tfidf)\n",
        "\n",
        "# Evaluate\n",
        "print(\"Naive Bayes Results:\")\n",
        "print(classification_report(y_test, y_pred_nb))\n",
        "print(confusion_matrix(y_test, y_pred_nb))\n"
      ],
      "metadata": {
        "colab": {
          "base_uri": "https://localhost:8080/"
        },
        "id": "JqueiC3WwTqG",
        "outputId": "a793ea56-2066-4aaf-f15a-66b76f3aaca3"
      },
      "execution_count": 11,
      "outputs": [
        {
          "output_type": "stream",
          "name": "stdout",
          "text": [
            "Naive Bayes Results:\n",
            "              precision    recall  f1-score   support\n",
            "\n",
            "           0       1.00      1.00      1.00      1682\n",
            "           1       1.00      1.00      1.00       318\n",
            "\n",
            "    accuracy                           1.00      2000\n",
            "   macro avg       1.00      1.00      1.00      2000\n",
            "weighted avg       1.00      1.00      1.00      2000\n",
            "\n",
            "[[1682    0]\n",
            " [   0  318]]\n"
          ]
        }
      ]
    },
    {
      "cell_type": "code",
      "source": [
        "# Example custom input\n",
        "sample_email = \"\"\"Subject: Update Your Account Immediately\n",
        "\n",
        "Your account has been flagged for suspicious activity. Please click the link below to verify your details.\"\"\"\n",
        "\n",
        "# Clean and vectorize\n",
        "sample_cleaned = clean_email(sample_email)\n",
        "sample_vector = vectorizer.transform([sample_cleaned])\n",
        "\n",
        "# Predict\n",
        "prediction = model.predict(sample_vector)[0]\n",
        "print(\"Prediction:\", \"Spam\" if prediction == 1 else \"Ham\")\n"
      ],
      "metadata": {
        "colab": {
          "base_uri": "https://localhost:8080/"
        },
        "id": "eM3C4LrjwW08",
        "outputId": "502cf35d-b292-472a-c486-a6fba2ef7147"
      },
      "execution_count": 12,
      "outputs": [
        {
          "output_type": "stream",
          "name": "stdout",
          "text": [
            "Prediction: Spam\n"
          ]
        }
      ]
    }
  ]
}